{
 "cells": [
  {
   "cell_type": "code",
   "execution_count": 1,
   "metadata": {
    "collapsed": true
   },
   "outputs": [],
   "source": [
    "%matplotlib inline\n",
    "import numpy as np\n",
    "import pandas as pd\n",
    "import scipy\n",
    "import sklearn\n",
    "import matplotlib.pyplot as plt\n",
    "import seaborn as sns\n",
    "from sklearn.metrics import confusion_matrix\n",
    "from sklearn.naive_bayes import BernoulliNB\n",
    "from sklearn.preprocessing import StandardScaler\n",
    "from sklearn.decomposition import PCA \n",
    "import re\n",
    "pd.set_option('display.max_colwidth', -1)"
   ]
  },
  {
   "cell_type": "code",
   "execution_count": 2,
   "metadata": {
    "collapsed": true
   },
   "outputs": [],
   "source": [
    "#started with imdb data. the model predicts better on amazon and yelp as opposed to imdb\n",
    "PATH1, PATH2, PATH3 = 'imdb_labelled.txt', 'amazon_cells_labelled.txt', 'yelp_labelled.txt'\n",
    "text_label = pd.read_csv(PATH3, delimiter= '\\t', header=None)\n",
    "text_label.columns = ['message', 'Positive'] #score: 1 is positive, 0 is negative"
   ]
  },
  {
   "cell_type": "code",
   "execution_count": 3,
   "metadata": {},
   "outputs": [
    {
     "name": "stderr",
     "output_type": "stream",
     "text": [
      "C:\\Users\\sohai\\Anaconda3\\lib\\site-packages\\ipykernel_launcher.py:11: UserWarning: This pattern has match groups. To actually get the groups, use str.extract.\n",
      "  # This is added back by InteractiveShellApp.init_path()\n",
      "C:\\Users\\sohai\\Anaconda3\\lib\\site-packages\\ipykernel_launcher.py:12: UserWarning: This pattern has match groups. To actually get the groups, use str.extract.\n",
      "  if sys.path[0] == '':\n"
     ]
    }
   ],
   "source": [
    "#creating a label list of positive and negative words\n",
    "keywords_v3 = ['good', 'great', '!!!', 'disappoint', 'bad', 'never', 'wasn\\'t', 'but', 'slow', 'not',\n",
    "              'time', 'back', 'love', 'best', 'enjoy']\n",
    "for key in keywords_v3:\n",
    "    text_label[key] = text_label.message.str.contains(key, case=False)\n",
    "\n",
    "text_label['allcaps'] = text_label.message.str.isupper()\n",
    "\n",
    "pat = re.compile(r'([a-z])\\1\\1+')\n",
    "pat2 = re.compile(r'\\b([A-Z])+\\b')\n",
    "text_label['lengthened_words'] = text_label['message'].str.contains(pat)\n",
    "text_label['word_capitalized'] = text_label['message'].str.contains(pat2)\n",
    "\n",
    "data = text_label[keywords_v3 + ['allcaps', 'lengthened_words', 'word_capitalized']]\n",
    "target = text_label['Positive']"
   ]
  },
  {
   "cell_type": "code",
   "execution_count": 4,
   "metadata": {},
   "outputs": [],
   "source": [
    "#text_label.loc[text_label.Positive==True,'message']"
   ]
  },
  {
   "cell_type": "code",
   "execution_count": 5,
   "metadata": {
    "collapsed": true
   },
   "outputs": [],
   "source": [
    "#setting the outcome param to a boolean\n",
    "text_label['Positive'] = (text_label['Positive']==1)"
   ]
  },
  {
   "cell_type": "code",
   "execution_count": 6,
   "metadata": {},
   "outputs": [
    {
     "name": "stdout",
     "output_type": "stream",
     "text": [
      "good count: 91\n",
      "great count: 65\n",
      "!!! count: 16\n",
      "disappoint count: 30\n",
      "bad count: 17\n",
      "never count: 25\n",
      "wasn't count: 13\n",
      "but count: 67\n",
      "slow count: 10\n",
      "not count: 132\n",
      "time count: 58\n",
      "back count: 61\n",
      "love count: 36\n",
      "best count: 29\n",
      "enjoy count: 11\n"
     ]
    }
   ],
   "source": [
    "#get an idea for which words seem to have an impact\n",
    "for key in keywords_v3:\n",
    "    print(\"{} count: {}\".format(key, (text_label[key]==True).sum()))"
   ]
  },
  {
   "cell_type": "code",
   "execution_count": 7,
   "metadata": {},
   "outputs": [
    {
     "data": {
      "text/plain": [
       "<matplotlib.axes._subplots.AxesSubplot at 0x19ae5cbd080>"
      ]
     },
     "execution_count": 7,
     "metadata": {},
     "output_type": "execute_result"
    },
    {
     "data": {
      "image/png": "[encoded data removed]",
      "text/plain": [
       "<matplotlib.figure.Figure at 0x19ae20d0588>"
      ]
     },
     "metadata": {},
     "output_type": "display_data"
    }
   ],
   "source": [
    "sns.heatmap(text_label.corr(), vmin=0)"
   ]
  },
  {
   "cell_type": "code",
   "execution_count": 8,
   "metadata": {},
   "outputs": [],
   "source": [
    "#setting up pcs\n",
    "#df_pca = text_label.loc[:,keywords_v3 + ['allcaps']].dropna()\n",
    "#X = StandardScaler().fit_transform(df_pca)\n",
    "#print(X)\n",
    "#What do the steps below do exactly\n",
    "#sklearn_pca = PCA(n_components=13)\n",
    "#learn = sklearn_pca.fit_transform(X)\n",
    "#feature['new'] = sklearn_pca.explained_variance_ratio_/"
   ]
  },
  {
   "cell_type": "code",
   "execution_count": 9,
   "metadata": {},
   "outputs": [
    {
     "name": "stdout",
     "output_type": "stream",
     "text": [
      "Number of mislabeled points out of a total 1000 points : 302\n"
     ]
    }
   ],
   "source": [
    "# Instantiate our model and store it in a new variable.\n",
    "bnb = BernoulliNB()\n",
    "\n",
    "# Fit our model to the data.\n",
    "bnb.fit(data, target)\n",
    "\n",
    "# Classify, storing the result in a new variable.\n",
    "y_pred = bnb.predict(data)\n",
    "\n",
    "# Display our results.\n",
    "print(\"Number of mislabeled points out of a total {} points : {}\".format(\n",
    "    data.shape[0],\n",
    "    (target != y_pred).sum()\n",
    "))\n",
    "#print(text_label.loc[target!=y_pred, 'message'])"
   ]
  },
  {
   "cell_type": "code",
   "execution_count": 10,
   "metadata": {},
   "outputs": [
    {
     "name": "stdout",
     "output_type": "stream",
     "text": [
      "Will a movie be rated positive correctly(v3)?\n",
      "\n",
      "Predicted negative correctly: 318 Predicted positive when it wasn't: 182 \n",
      "Predicted negative when it wasnt: 120 Predicted positive correctly: 380\n",
      "False positive rate: 36.40\n",
      "False negative rate: 24.00\n"
     ]
    }
   ],
   "source": [
    "#version 1\n",
    "conf_mat = confusion_matrix(target, y_pred)\n",
    "print(\"Will a movie be rated positive correctly(v3)?\\n\")\n",
    "print(\"Predicted negative correctly: {} Predicted positive when it wasn't: {} \\nPredicted negative when it wasnt: {} Predicted positive correctly: {}\".format(\n",
    "    conf_mat[0][0],conf_mat[0][1],conf_mat[1][0],conf_mat[1][1]))\n",
    "print(\"False positive rate: {:.2f}\".format((conf_mat[0][1]/(target==False).sum())*100))\n",
    "print(\"False negative rate: {:.2f}\".format((conf_mat[1][0]/(target==False).sum())*100))"
   ]
  },
  {
   "cell_type": "code",
   "execution_count": 11,
   "metadata": {},
   "outputs": [
    {
     "name": "stdout",
     "output_type": "stream",
     "text": [
      "With 20% Holdout: 0.715\n",
      "Testing on Sample: 0.698\n"
     ]
    }
   ],
   "source": [
    "from sklearn.model_selection import train_test_split\n",
    "\n",
    "# Use train_test_split to create the necessary training and test groups\n",
    "X_train, X_test, y_train, y_test = train_test_split(data, target, test_size=0.2, random_state=20)\n",
    "print('With 20% Holdout: ' + str(bnb.fit(X_train, y_train).score(X_test, y_test))) #score shows the accuracy\n",
    "print('Testing on Sample: ' + str(bnb.fit(data, target).score(data, target)))"
   ]
  },
  {
   "cell_type": "markdown",
   "metadata": {
    "collapsed": true
   },
   "source": [
    "Version 1:\n",
    "keywords_v1 = ['best', 'great', 'enjoyable', 'good', 'loved', 'incredible', 'positive', 'funny']\n",
    "\n",
    "Version 2:\n",
    "keywords_v2 = ['disappoint', 'bad', 'terrible', 'bland', 'waste', 'low', 'never', 'unfortunate']\n",
    "Only slightly better than v1\n",
    "\n",
    "Version 3:\n",
    "basing on negative notes alone was less accurate than the positive one\n",
    "\n",
    "Version 4:\n",
    "tried the lengthened words feature, shows promise\n",
    "\n",
    "Version 5:\n",
    "tried the capitalized word feature, boosted it to 70%"
   ]
  },
  {
   "cell_type": "code",
   "execution_count": null,
   "metadata": {},
   "outputs": [],
   "source": []
  },
  {
   "cell_type": "code",
   "execution_count": null,
   "metadata": {
    "collapsed": true
   },
   "outputs": [],
   "source": []
  }
 ],
 "metadata": {
  "kernelspec": {
   "display_name": "Python 3",
   "language": "python",
   "name": "python3"
  },
  "language_info": {
   "codemirror_mode": {
    "name": "ipython",
    "version": 3
   },
   "file_extension": ".py",
   "mimetype": "text/x-python",
   "name": "python",
   "nbconvert_exporter": "python",
   "pygments_lexer": "ipython3",
   "version": "3.6.3"
  }
 },
 "nbformat": 4,
 "nbformat_minor": 2
}
